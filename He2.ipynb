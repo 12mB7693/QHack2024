{
 "cells": [
  {
   "cell_type": "code",
   "execution_count": 1,
   "id": "ac4ba603-cda5-44d7-9bb5-b2212ce99775",
   "metadata": {
    "tags": []
   },
   "outputs": [],
   "source": [
    "import pennylane as qml\n",
    "from pennylane import numpy as np\n",
    "import matplotlib.pyplot as plt\n",
    "import pickle"
   ]
  },
  {
   "cell_type": "code",
   "execution_count": 9,
   "id": "98722c33-43ff-4055-8642-8c6e7829b570",
   "metadata": {
    "tags": []
   },
   "outputs": [],
   "source": [
    "dataset = qml.data.load(\"qchem\", molname=\"He2\", bondlength=5.2, basis=\"6-31G\", \n",
    "                     attributes=[\"hamiltonian\", \"fci_spectrum\", \"fci_energy\", \"hf_state\", \"vqe_gates\"])"
   ]
  },
  {
   "cell_type": "code",
   "execution_count": 10,
   "id": "3f3d101a-bfcf-47ca-93e2-c647cd002a80",
   "metadata": {
    "tags": []
   },
   "outputs": [],
   "source": [
    "class AnsatzGenerator:\n",
    "    def __init__(self, num_qubits, hamiltonian, molecular_data):\n",
    "        self.num_qubits = num_qubits\n",
    "        self.hamiltonian = hamiltonian\n",
    "        self.num_params_groundstate = 4*num_qubits\n",
    "        self.num_params_excited = 4*(num_qubits-1)*2\n",
    "        self.data = molecular_data\n",
    "\n",
    "    def _ctrl_ansatz_gates(self, params):\n",
    "        for i in range(self.num_qubits-1):\n",
    "            qml.CRY(params[i], wires=[0, i+1])\n",
    "            qml.CRZ(params[self.num_qubits - 1 + i], wires=[0, i+1])\n",
    "\n",
    "        for i in range(1, self.num_qubits - 1):\n",
    "            qml.Toffoli(wires=[0,i, i+1])\n",
    "\n",
    "        for i in range(self.num_qubits-1):\n",
    "            qml.CRY(params[2*(self.num_qubits - 1) + i], wires=[0, i+1])\n",
    "            qml.CRZ(params[3*(self.num_qubits - 1) + i], wires=[0, i+1])\n",
    "\n",
    "    def _ansatz_gates(self):\n",
    "        \"\"\"Define the gates for the hardware efficient ansatz\"\"\"\n",
    "        qml.BasisState(self.data.hf_state, wires = range(num_qubits))\n",
    "        for op in self.data.vqe_gates:\n",
    "            qml.apply(op)\n",
    "\n",
    "    def ansatz_groundstate(self):\n",
    "        \"\"\"Define the ansatz to compute the ground state\"\"\"\n",
    "        self._ansatz_gates()\n",
    "        return qml.expval(self.hamiltonian)\n",
    "\n",
    "\n",
    "    def setGroundStateResultParams(self, result_params):\n",
    "        self.result_params = result_params\n",
    "\n",
    "    def ansatz_excited(self, params):\n",
    "        \"\"\"Define the ansatz to compute the excited state\"\"\"\n",
    "        qml.adjoint(self._ansatz_gates)() \n",
    "    \n",
    "        qml.PauliX(wires=0)\n",
    "    \n",
    "        self._ctrl_ansatz_gates(params[0:int(self.num_params_excited/2)])\n",
    "\n",
    "        for i in range(1, self.num_qubits):\n",
    "            qml.PauliX(wires=i)\n",
    "\n",
    "        qml.MultiControlledX(control_wires=range(1, self.num_qubits), wires=0)\n",
    "\n",
    "        for i in range(self.num_qubits):\n",
    "            qml.PauliX(wires=i)\n",
    "\n",
    "        self._ctrl_ansatz_gates(params[int(self.num_params_excited/2):])\n",
    "        self._ansatz_gates()\n",
    "        return qml.expval(self.hamiltonian)"
   ]
  },
  {
   "cell_type": "code",
   "execution_count": 11,
   "id": "6f34f003-6792-4339-89c9-780e4ea2bbf6",
   "metadata": {
    "tags": []
   },
   "outputs": [],
   "source": [
    "num_qubits = len(dataset[0].hf_state)\n",
    "H = dataset[0].hamiltonian\n",
    "dev = qml.device('default.qubit', wires=num_qubits)\n",
    "ansatzGenerator = AnsatzGenerator(num_qubits, H, dataset[0])\n",
    "\n",
    "ansatz_groundstate = qml.QNode(ansatzGenerator.ansatz_groundstate, dev)"
   ]
  },
  {
   "cell_type": "code",
   "execution_count": 12,
   "id": "cd8ff1c5-f74b-4db8-970d-af40427f3685",
   "metadata": {
    "tags": []
   },
   "outputs": [
    {
     "data": {
      "text/plain": [
       "tensor(-5.74002344, requires_grad=True)"
      ]
     },
     "execution_count": 12,
     "metadata": {},
     "output_type": "execute_result"
    }
   ],
   "source": [
    "ansatz_groundstate()"
   ]
  },
  {
   "cell_type": "code",
   "execution_count": 13,
   "id": "f9973914-5b2a-47c6-86f4-35f16e7e55d8",
   "metadata": {
    "tags": []
   },
   "outputs": [
    {
     "data": {
      "text/plain": [
       "tensor([-5.74032428, -4.86378042, -4.86378042, -4.86377941, -4.86377941,\n",
       "        -4.36548973, -4.36548973, -4.3654816 , -4.3654816 , -4.26946994,\n",
       "        -4.26946994, -4.26946994, -4.26946994, -4.26946994, -4.26946994,\n",
       "        -3.88547091, -3.88547091, -3.88547091, -3.88547091, -3.81887502,\n",
       "        -3.81887502, -3.59070594, -3.59070594, -3.59070594, -3.59070594,\n",
       "        -3.59070594, -3.59070594, -3.59070594, -3.59070594, -3.39292979,\n",
       "        -3.39292979, -3.39292979, -3.39292979, -3.39292768, -3.39292768,\n",
       "        -3.39292346, -3.39292346, -3.39292135, -3.39292135, -3.39292135,\n",
       "        -3.39292135, -2.94233242, -2.94233242, -2.9423289 , -2.9423289 ,\n",
       "        -2.906315  , -2.906315  , -2.906315  , -2.906315  , -2.89463233,\n",
       "        -2.89463233, -2.89463233, -2.89463233, -2.89463183, -2.89463183,\n",
       "        -2.89463082, -2.89463082, -2.89463031, -2.89463031, -2.89463031,\n",
       "        -2.89463031, -2.88888241, -2.88888241, -2.88888241, -2.88888241,\n",
       "        -2.87016214, -2.87016214, -2.79861559, -2.79861559, -2.79861559,\n",
       "        -2.79861559, -2.79861559, -2.79861559, -2.79861559, -2.79861559,\n",
       "        -2.79861559, -2.69368819, -2.69368819, -2.69368802, -2.69368802,\n",
       "        -2.44403651, -2.44403651, -2.44403631, -2.44403631, -2.34802068,\n",
       "        -2.34802068, -2.34802068, -2.34802068, -2.34802068, -2.34802068,\n",
       "        -2.26152513, -2.26152513, -2.159241  , -2.159241  , -1.928006  ,\n",
       "        -1.928006  , -1.928006  , -1.928006  , -1.928006  , -1.928006  ,\n",
       "        -1.928006  , -1.928006  , -1.91890838, -1.91890838, -1.91890838,\n",
       "        -1.91890838, -1.91890838, -1.91890838, -1.91890838, -1.91890838,\n",
       "        -1.89742577, -1.79008863, -1.79008863, -1.79008836, -1.79008836,\n",
       "        -1.69885281, -1.69885281, -1.69885281, -1.69885281, -1.63324103,\n",
       "        -1.63324103, -1.63324103, -1.63324103, -1.63324103, -1.63324103,\n",
       "        -1.63324103, -1.63324103, -1.48622591, -1.48622591, -1.48622591,\n",
       "        -1.48622591, -1.43546081, -1.43546081, -1.43546081, -1.43546081,\n",
       "        -1.43546073, -1.43546073, -1.43546058, -1.43546058, -1.4354605 ,\n",
       "        -1.4354605 , -1.4354605 , -1.4354605 , -1.3993078 , -1.3993078 ,\n",
       "        -1.3993078 , -1.3993078 , -1.3993078 , -1.3993078 , -1.38498082,\n",
       "        -1.38498082, -1.38498071, -1.38498071, -1.22283742, -1.22283742,\n",
       "        -1.22283742, -1.22283742, -1.22283559, -1.22283559, -1.22283194,\n",
       "        -1.22283194, -1.22283011, -1.22283011, -1.22283011, -1.22283011,\n",
       "        -1.21708486, -1.21708486, -1.21708486, -1.21708486, -1.21708486,\n",
       "        -1.21708486, -1.21708486, -1.21708486, -0.98486608, -0.98486608,\n",
       "        -0.9848654 , -0.9848654 , -0.94871288, -0.94871288, -0.88668652,\n",
       "        -0.88668652, -0.88668652, -0.88668652, -0.79067079, -0.79067079,\n",
       "        -0.79067079, -0.79067079, -0.79067079, -0.79067079, -0.77224119,\n",
       "        -0.77224119, -0.77223651, -0.77223651, -0.68838666, -0.68838666,\n",
       "        -0.68838666, -0.68838666, -0.68838666, -0.68838666, -0.58087698,\n",
       "        -0.58087698, -0.58086923, -0.58086923, -0.34007587, -0.34007587,\n",
       "        -0.23779174, -0.23779174, -0.02705525, -0.02705525, -0.02705525,\n",
       "        -0.02705525,  0.02945892,  0.02945892,  0.02945892,  0.02945892,\n",
       "         0.03855653,  0.03855653,  0.03855653,  0.03855653,  0.03855653,\n",
       "         0.03855653,  0.03855653,  0.03855653,  0.16737249,  0.16737249,\n",
       "         0.16738035,  0.16738035,  0.30386258,  0.30386258,  0.40705856,\n",
       "         0.4547127 ,  0.4547127 ,  0.4547127 ,  0.4547127 ,  0.471239  ,\n",
       "         0.471239  ,  0.471239  ,  0.471239  ,  0.57248025,  0.57248025,\n",
       "         0.57248804,  0.57248804,  0.60863701,  0.60863701,  0.78511062,\n",
       "         0.78511062,  0.78511146,  0.78511146,  1.09092335,  1.09092335,\n",
       "         1.09092555,  1.09092555,  1.21727402,  1.31955815,  1.31955815,\n",
       "         1.82890084], requires_grad=True)"
      ]
     },
     "execution_count": 13,
     "metadata": {},
     "output_type": "execute_result"
    }
   ],
   "source": [
    "np.sort(dataset[0].fci_spectrum)"
   ]
  },
  {
   "cell_type": "code",
   "execution_count": 14,
   "id": "5bc9a8cd-bdda-4995-9ded-63164e5f5c83",
   "metadata": {
    "tags": []
   },
   "outputs": [],
   "source": [
    "class VQE:\n",
    "    def __init__(self, num_params, ansatz):\n",
    "        self.max_iterations = 1000\n",
    "        self.conv_tol = 1e-06\n",
    "        self.opt = qml.QNGOptimizer(0.01)\n",
    "        self.num_params = num_params\n",
    "        self.ansatz = ansatz\n",
    "\n",
    "    def run(self):\n",
    "        \"\"\"Run the VQE. \n",
    "        Return the optimized parameters and the vector of energies that is computed during the optimization. \n",
    "        The last item in the vector is the lowest energy.\n",
    "        \"\"\"\n",
    "        theta = np.random.random(self.num_params)\n",
    "        energy = [self.ansatz(theta)]\n",
    "\n",
    "        angle = [theta]\n",
    "        \n",
    "\n",
    "        for n in range(self.max_iterations):\n",
    "            theta, prev_cost = self.opt.step_and_cost(self.ansatz, theta)\n",
    "            energy.append(self.ansatz(theta))\n",
    "            angle.append(theta)\n",
    "            if n%10 == 0:\n",
    "                print(f\"Energy {n} = {energy[-1]}\")\n",
    "            conv = np.abs(energy[-1] - prev_cost)\n",
    "            if conv <= self.conv_tol:\n",
    "                break\n",
    "        return angle[-1], energy\n",
    "    \n",
    "    def run_again(self, starting_param):\n",
    "        theta = starting_param\n",
    "        energy = [self.ansatz(theta)]\n",
    "\n",
    "        angle = [theta]\n",
    "        \n",
    "\n",
    "        for n in range(self.max_iterations):\n",
    "            theta, prev_cost = self.opt.step_and_cost(self.ansatz, theta)\n",
    "            energy.append(self.ansatz(theta))\n",
    "            angle.append(theta)\n",
    "            if n%10 == 0:\n",
    "                print(f\"Energy {n} = {energy[-1]}\")\n",
    "            conv = np.abs(energy[-1] - prev_cost)\n",
    "            if conv <= self.conv_tol:\n",
    "                break\n",
    "        return angle[-1], energy"
   ]
  },
  {
   "cell_type": "code",
   "execution_count": 16,
   "id": "45b275db-5684-44e9-90bd-12ec9f5c2d31",
   "metadata": {
    "tags": []
   },
   "outputs": [
    {
     "name": "stdout",
     "output_type": "stream",
     "text": [
      "Energy 0 = -0.3580687023841098\n",
      "Energy 10 = -2.3401927996585496\n",
      "Energy 20 = -3.333730023760318\n",
      "Energy 30 = -3.92153220113534\n",
      "Energy 40 = -4.4490712840678714\n",
      "Energy 50 = -4.692184965872462\n",
      "Energy 60 = -4.762095158616\n",
      "Energy 70 = -4.783864003070389\n",
      "Energy 80 = -4.793368026842501\n",
      "Energy 90 = -4.798728025748056\n",
      "Energy 100 = -4.802096509641774\n",
      "Energy 110 = -4.804287564137834\n",
      "Energy 120 = -4.805726291549071\n",
      "Energy 130 = -4.8066730486963944\n",
      "Energy 140 = -4.807296191690976\n",
      "Energy 150 = -4.807706243935833\n",
      "Energy 160 = -4.807976005242747\n",
      "Energy 170 = -4.80815343764986\n",
      "Energy 180 = -4.8082701252115845\n",
      "Energy 190 = -4.808346856818109\n",
      "Energy 200 = -4.808397310869898\n",
      "Energy 210 = -4.8084304849801365\n",
      "Energy 220 = -4.808452296719358\n",
      "Energy 230 = -4.8084666375154645\n"
     ]
    },
    {
     "ename": "NameError",
     "evalue": "name 'energies_excited_He2' is not defined",
     "output_type": "error",
     "traceback": [
      "\u001b[0;31m---------------------------------------------------------------------------\u001b[0m",
      "\u001b[0;31mNameError\u001b[0m                                 Traceback (most recent call last)",
      "Cell \u001b[0;32mIn[16], line 6\u001b[0m\n\u001b[1;32m      3\u001b[0m params_excited, energies_excited \u001b[38;5;241m=\u001b[39m vqe\u001b[38;5;241m.\u001b[39mrun()\n\u001b[1;32m      5\u001b[0m \u001b[38;5;28;01mwith\u001b[39;00m \u001b[38;5;28mopen\u001b[39m(\u001b[38;5;124m'\u001b[39m\u001b[38;5;124menergies_excited_BeH2_QNG.pickle\u001b[39m\u001b[38;5;124m'\u001b[39m, \u001b[38;5;124m'\u001b[39m\u001b[38;5;124mwb\u001b[39m\u001b[38;5;124m'\u001b[39m) \u001b[38;5;28;01mas\u001b[39;00m handle:\n\u001b[0;32m----> 6\u001b[0m     pickle\u001b[38;5;241m.\u001b[39mdump(\u001b[43menergies_excited_He2\u001b[49m, handle)\n\u001b[1;32m      8\u001b[0m \u001b[38;5;28;01mwith\u001b[39;00m \u001b[38;5;28mopen\u001b[39m(\u001b[38;5;124m'\u001b[39m\u001b[38;5;124mparams_excited_BeH2_QNG.pickle\u001b[39m\u001b[38;5;124m'\u001b[39m, \u001b[38;5;124m'\u001b[39m\u001b[38;5;124mwb\u001b[39m\u001b[38;5;124m'\u001b[39m) \u001b[38;5;28;01mas\u001b[39;00m handle:\n\u001b[1;32m      9\u001b[0m     pickle\u001b[38;5;241m.\u001b[39mdump(params_excited_He2, handle)\n",
      "\u001b[0;31mNameError\u001b[0m: name 'energies_excited_He2' is not defined"
     ]
    }
   ],
   "source": [
    "ansatz_excited = qml.QNode(ansatzGenerator.ansatz_excited, dev)\n",
    "vqe = VQE(ansatzGenerator.num_params_excited, ansatz_excited)\n",
    "params_excited, energies_excited = vqe.run()\n",
    "\n"
   ]
  },
  {
   "cell_type": "code",
   "execution_count": 17,
   "id": "095b6c90-85e8-4a90-833e-73a8b628e3c7",
   "metadata": {
    "tags": []
   },
   "outputs": [],
   "source": [
    "with open('energies_excited_He2_QNG.pickle', 'wb') as handle:\n",
    "    pickle.dump(energies_excited, handle)\n",
    "    \n",
    "with open('params_excited_He2_QNG.pickle', 'wb') as handle:\n",
    "    pickle.dump(params_excited, handle)"
   ]
  },
  {
   "cell_type": "code",
   "execution_count": 22,
   "id": "4ac5354b-dc53-4049-af47-4aae3d984af2",
   "metadata": {
    "tags": []
   },
   "outputs": [
    {
     "data": {
      "image/png": "[encoded data removed]",
      "text/plain": [
       "<Figure size 640x480 with 1 Axes>"
      ]
     },
     "metadata": {},
     "output_type": "display_data"
    }
   ],
   "source": [
    "excited = np.sort(dataset[0].fci_spectrum)[1]\n",
    "plt.axhline(y=excited, color='r', linestyle='-')\n",
    "plt.plot(range(len(energies_excited)), energies_excited)\n",
    "plt.xlabel(\"Number of iterations\")\n",
    "plt.ylabel(\"Energy\")\n",
    "plt.suptitle(\"He2 excited state with QNG optimizer\")\n",
    "plt.savefig(\"He2_excited_QNG.png\")\n",
    "plt.show()"
   ]
  },
  {
   "cell_type": "code",
   "execution_count": 21,
   "id": "4deaabec-2d34-4eb2-8dd2-234df5de9845",
   "metadata": {
    "tags": []
   },
   "outputs": [
    {
     "data": {
      "text/plain": [
       "-0.05531378248453578"
      ]
     },
     "execution_count": 21,
     "metadata": {},
     "output_type": "execute_result"
    }
   ],
   "source": [
    "-4.86378042 + 4.8084666375154645"
   ]
  },
  {
   "cell_type": "code",
   "execution_count": null,
   "id": "9208b0e3-e999-42f3-853d-6574b5f2654f",
   "metadata": {},
   "outputs": [],
   "source": []
  }
 ],
 "metadata": {
  "kernelspec": {
   "display_name": "conda_braket",
   "language": "python",
   "name": "conda_braket"
  },
  "language_info": {
   "codemirror_mode": {
    "name": "ipython",
    "version": 3
   },
   "file_extension": ".py",
   "mimetype": "text/x-python",
   "name": "python",
   "nbconvert_exporter": "python",
   "pygments_lexer": "ipython3",
   "version": "3.10.13"
  }
 },
 "nbformat": 4,
 "nbformat_minor": 5
}
